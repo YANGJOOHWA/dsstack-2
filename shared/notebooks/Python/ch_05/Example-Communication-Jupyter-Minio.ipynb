{
 "cells": [
  {
   "cell_type": "markdown",
   "metadata": {},
   "source": [
    "# Communication between Jupyter/Minio\n",
    "In order to programatically access our Minio container, we have to prepare two things:\n",
    "\n",
    "1. Install Minio client\n",
    "2. Extract Minio Access & Secret Key\n",
    "\n",
    "Please note, that we did specify the secrets keys directly in our docker-compose file - we therefore don't need do further extract those from log files.\n",
    "\n",
    "The installation of the Minio client is straight forward.\n",
    "Simply log into the Jupyter container and open up a new terminal (or Jupyter notebook) and run:"
   ]
  },
  {
   "cell_type": "code",
   "execution_count": 1,
   "metadata": {},
   "outputs": [
    {
     "name": "stdout",
     "output_type": "stream",
     "text": [
      "Requirement already satisfied: minio in /opt/conda/lib/python3.6/site-packages\n",
      "Requirement already satisfied: certifi in /opt/conda/lib/python3.6/site-packages (from minio)\n",
      "Requirement already satisfied: pytz in /opt/conda/lib/python3.6/site-packages (from minio)\n",
      "Requirement already satisfied: python-dateutil in /opt/conda/lib/python3.6/site-packages (from minio)\n",
      "Requirement already satisfied: urllib3 in /opt/conda/lib/python3.6/site-packages (from minio)\n",
      "Requirement already satisfied: six>=1.5 in /opt/conda/lib/python3.6/site-packages (from python-dateutil->minio)\n"
     ]
    },
    {
     "name": "stderr",
     "output_type": "stream",
     "text": [
      "You are using pip version 9.0.3, however version 19.0.3 is available.\n",
      "You should consider upgrading via the 'pip install --upgrade pip' command.\n"
     ]
    }
   ],
   "source": [
    "%%bash\n",
    "pip install minio"
   ]
  },
  {
   "cell_type": "markdown",
   "metadata": {},
   "source": [
    "### Connect to Minio\n",
    "As you see the creation of a Minio client object is very simple.\n",
    "The \"magic\" lies in the `minio` endpoint.\n",
    "This is our other container, which we can simply address by name."
   ]
  },
  {
   "cell_type": "code",
   "execution_count": 2,
   "metadata": {},
   "outputs": [],
   "source": [
    "from minio import Minio\n",
    "\n",
    "minio_client = Minio(\n",
    "    endpoint=\"minio:9000\",\n",
    "    access_key=\"12345678\",\n",
    "    secret_key=\"password\",\n",
    "    secure=False\n",
    ")"
   ]
  },
  {
   "cell_type": "markdown",
   "metadata": {},
   "source": [
    "### Write to Minio\n",
    "Let's move forward and actually write a file to Minio."
   ]
  },
  {
   "cell_type": "code",
   "execution_count": 3,
   "metadata": {},
   "outputs": [
    {
     "data": {
      "text/plain": [
       "'208ee96fcb544b4f59f19a7d4c10fd9d'"
      ]
     },
     "execution_count": 3,
     "metadata": {},
     "output_type": "execute_result"
    }
   ],
   "source": [
    "# create a sample file\n",
    "with open(\"sample.txt\", \"w\") as f:\n",
    "    f.write(\"This is just a sample text\")\n",
    "\n",
    "# create bucket \n",
    "minio_client.make_bucket(\"sample-bucket\")\n",
    "\n",
    "# put file to bucket\n",
    "minio_client.fput_object(\n",
    "    bucket_name=\"sample-bucket\",\n",
    "    object_name=\"sample-file.txt\",\n",
    "    file_path=\"./sample.txt\"\n",
    ")"
   ]
  },
  {
   "cell_type": "markdown",
   "metadata": {},
   "source": [
    "### Read from Minio\n",
    "Let's read this file back and see if our processing did any harm to our file"
   ]
  },
  {
   "cell_type": "code",
   "execution_count": 4,
   "metadata": {},
   "outputs": [
    {
     "data": {
      "text/plain": [
       "'This is just a sample text'"
      ]
     },
     "execution_count": 4,
     "metadata": {},
     "output_type": "execute_result"
    }
   ],
   "source": [
    "minio_client.get_object(\n",
    "    bucket_name=\"sample-bucket\",\n",
    "    object_name=\"sample-file.txt\"\n",
    ").data.decode()"
   ]
  }
 ],
 "metadata": {
  "kernelspec": {
   "display_name": "Python 3",
   "language": "python",
   "name": "python3"
  },
  "language_info": {
   "codemirror_mode": {
    "name": "ipython",
    "version": 3
   },
   "file_extension": ".py",
   "mimetype": "text/x-python",
   "name": "python",
   "nbconvert_exporter": "python",
   "pygments_lexer": "ipython3",
   "version": "3.6.5"
  }
 },
 "nbformat": 4,
 "nbformat_minor": 2
}
